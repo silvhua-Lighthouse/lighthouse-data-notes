{
 "cells": [
  {
   "cell_type": "code",
   "execution_count": 3,
   "metadata": {},
   "outputs": [
    {
     "data": {
      "text/plain": [
       "{1, 2, 3}"
      ]
     },
     "execution_count": 3,
     "metadata": {},
     "output_type": "execute_result"
    }
   ],
   "source": [
    "set1 = {1, 2,3}\n",
    "set1"
   ]
  },
  {
   "cell_type": "code",
   "execution_count": 6,
   "metadata": {},
   "outputs": [
    {
     "name": "stdout",
     "output_type": "stream",
     "text": [
      "try block\n",
      "Division =  1.0\n",
      "finally block\n",
      "line after all try blocks\n"
     ]
    }
   ],
   "source": [
    "try:\n",
    "    print('try block')\n",
    "    x=int(input('Enter a number: '))\n",
    "    y=int(input('Enter another number: '))\n",
    "    z=x/y\n",
    "    print(\"Division = \", z)\n",
    "except ZeroDivisionError:\n",
    "    print(\"except ZeroDivisionError block\")\n",
    "    print(\"Division by 0 not accepted\")\n",
    "# else:\n",
    "#     print(\"else block\")\n",
    "#     print(\"Division = \", z)\n",
    "finally:\n",
    "    print(\"finally block\")\n",
    "    x=0\n",
    "    y=0\n",
    "print('line after all try blocks')"
   ]
  },
  {
   "cell_type": "code",
   "execution_count": 10,
   "metadata": {},
   "outputs": [
    {
     "name": "stdout",
     "output_type": "stream",
     "text": [
      "Counter({5: 3, 7: 3, 1: 2, 9: 2, 6: 1, 3: 1, 2: 1})\n"
     ]
    },
    {
     "data": {
      "text/plain": [
       "[1, 1, 2, 3, 5, 5, 5, 6, 7, 7, 7, 9, 9]"
      ]
     },
     "execution_count": 10,
     "metadata": {},
     "output_type": "execute_result"
    }
   ],
   "source": [
    "from collections import Counter\n",
    "lst = [5,6,7,1,3,9,9,1,2,5,5,7,7]\n",
    "c = Counter(lst)\n",
    "print(c)\n",
    "sorted(c.elements())"
   ]
  },
  {
   "cell_type": "code",
   "execution_count": 20,
   "metadata": {},
   "outputs": [
    {
     "data": {
      "text/plain": [
       "<object at 0x1bf832f2c70>"
      ]
     },
     "execution_count": 20,
     "metadata": {},
     "output_type": "execute_result"
    }
   ],
   "source": [
    "from collections import defaultdict\n",
    "d = {}\n",
    "# d['A']='hello'\n",
    "d = defaultdict(object)\n",
    "d['A']\n",
    "# help(defaultdict)"
   ]
  },
  {
   "cell_type": "code",
   "execution_count": 31,
   "metadata": {},
   "outputs": [
    {
     "data": {
      "text/plain": [
       "Counter({1: 3, 2: 4})"
      ]
     },
     "execution_count": 31,
     "metadata": {},
     "output_type": "execute_result"
    }
   ],
   "source": [
    "cnt=Counter({1:3,2:4})\n",
    "type(cnt)\n",
    "cnt"
   ]
  },
  {
   "cell_type": "code",
   "execution_count": 30,
   "metadata": {},
   "outputs": [
    {
     "data": {
      "text/plain": [
       "Counter({1: 3, 2: 2, 3: 2, 4: 1, 6: 1, 7: 1, 8: 1})"
      ]
     },
     "execution_count": 30,
     "metadata": {},
     "output_type": "execute_result"
    }
   ],
   "source": [
    "list = [1,2,3,4,1,2,6,7,3,8,1]\n",
    "Counter(list)"
   ]
  },
  {
   "cell_type": "code",
   "execution_count": 49,
   "metadata": {},
   "outputs": [
    {
     "name": "stdout",
     "output_type": "stream",
     "text": [
      "2022-09-20 20:20:12.817668\n"
     ]
    }
   ],
   "source": [
    "from datetime import datetime\n",
    "datetimenow = datetime.now()\n",
    "print(datetimenow)"
   ]
  },
  {
   "cell_type": "code",
   "execution_count": 65,
   "metadata": {},
   "outputs": [
    {
     "name": "stdout",
     "output_type": "stream",
     "text": [
      "2022-09-20 00:00:00\n"
     ]
    },
    {
     "data": {
      "text/plain": [
       "2022"
      ]
     },
     "execution_count": 65,
     "metadata": {},
     "output_type": "execute_result"
    }
   ],
   "source": [
    "stringdate = '2022-09-20'\n",
    "date = datetime.strptime(stringdate,'%Y-%m-%d')\n",
    "print(date)\n",
    "date.year"
   ]
  },
  {
   "cell_type": "code",
   "execution_count": 48,
   "metadata": {},
   "outputs": [
    {
     "name": "stdout",
     "output_type": "stream",
     "text": [
      "2022 9 20\n"
     ]
    }
   ],
   "source": [
    "print(date.year,date.month,date.day)"
   ]
  },
  {
   "cell_type": "code",
   "execution_count": 63,
   "metadata": {},
   "outputs": [
    {
     "name": "stdout",
     "output_type": "stream",
     "text": [
      "<built-in method date of datetime.datetime object at 0x000001BF81DD3DB0>\n"
     ]
    }
   ],
   "source": [
    "print(datetimenow.date)"
   ]
  },
  {
   "cell_type": "code",
   "execution_count": 58,
   "metadata": {},
   "outputs": [
    {
     "name": "stdout",
     "output_type": "stream",
     "text": [
      "2022 38 2\n",
      "datetime.IsoCalendarDate(year=2022, week=38, weekday=2)\n"
     ]
    },
    {
     "data": {
      "text/plain": [
       "datetime.IsoCalendarDate"
      ]
     },
     "execution_count": 58,
     "metadata": {},
     "output_type": "execute_result"
    }
   ],
   "source": [
    "year, week, day=datetimenow.isocalendar()\n",
    "print(year,week, day)\n",
    "isodate = datetimenow.isocalendar()\n",
    "print(isodate)\n",
    "type(isodate)"
   ]
  },
  {
   "cell_type": "code",
   "execution_count": 61,
   "metadata": {},
   "outputs": [
    {
     "data": {
      "text/plain": [
       "datetime.date"
      ]
     },
     "execution_count": 61,
     "metadata": {},
     "output_type": "execute_result"
    }
   ],
   "source": [
    "from datetime import date\n",
    "date1=date(2022,9,20)\n",
    "type(date1)"
   ]
  },
  {
   "cell_type": "code",
   "execution_count": 77,
   "metadata": {},
   "outputs": [
    {
     "name": "stdout",
     "output_type": "stream",
     "text": [
      "my time now:  2022-09-20 21:58:52.744765-07:00\n",
      "Toronto time now:  2022-09-21 00:58:52.744765-04:00\n"
     ]
    }
   ],
   "source": [
    "import pytz\n",
    "mytz= timezone('Canada/Pacific')\n",
    "mydatetime = mytz.localize(datetime.now())\n",
    "print('my time now: ',mydatetime)\n",
    "\n",
    "toronto_tz=timezone('Canada/Eastern')\n",
    "print('Toronto time now: ',mydatetime.astimezone(toronto_tz))\n"
   ]
  },
  {
   "cell_type": "code",
   "execution_count": 83,
   "metadata": {},
   "outputs": [
    {
     "name": "stdout",
     "output_type": "stream",
     "text": [
      "2022-09-20\n"
     ]
    }
   ],
   "source": [
    "from datetime import date\n",
    "print(date.today())"
   ]
  },
  {
   "cell_type": "code",
   "execution_count": 85,
   "metadata": {},
   "outputs": [
    {
     "name": "stdout",
     "output_type": "stream",
     "text": [
      "2022-09-21 06:45:31.202037+01:00\n"
     ]
    }
   ],
   "source": [
    "import pytz\n",
    "londontimezone=timezone('Europe/London')\n",
    "londondatetime=datetime.now(londontimezone)\n",
    "print(londondatetime)"
   ]
  },
  {
   "cell_type": "code",
   "execution_count": null,
   "metadata": {},
   "outputs": [],
   "source": []
  },
  {
   "cell_type": "code",
   "execution_count": null,
   "metadata": {},
   "outputs": [],
   "source": []
  }
 ],
 "metadata": {
  "kernelspec": {
   "display_name": "Python 3.9.12 ('base')",
   "language": "python",
   "name": "python3"
  },
  "language_info": {
   "codemirror_mode": {
    "name": "ipython",
    "version": 3
   },
   "file_extension": ".py",
   "mimetype": "text/x-python",
   "name": "python",
   "nbconvert_exporter": "python",
   "pygments_lexer": "ipython3",
   "version": "3.9.12"
  },
  "orig_nbformat": 4,
  "vscode": {
   "interpreter": {
    "hash": "2e2acc2011b4da91d464b6001f77a86da83e60b7e151f5c0261d45e8c88d5eb5"
   }
  }
 },
 "nbformat": 4,
 "nbformat_minor": 2
}
