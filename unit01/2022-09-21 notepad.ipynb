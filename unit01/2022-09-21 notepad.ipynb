{
 "cells": [
  {
   "cell_type": "code",
   "execution_count": 16,
   "metadata": {},
   "outputs": [
    {
     "name": "stdout",
     "output_type": "stream",
     "text": [
      "env: FOURSQUARE_API_KEY=fsq3f2XsuYKnioaDoty53EOHDgCyE22ecgw6D/HW/02QWCs=\n",
      "api key:  fsq3f2XsuYKnioaDoty53EOHDgCyE22ecgw6D/HW/02QWCs=\n"
     ]
    }
   ],
   "source": [
    "# Goal: Collect the venues near Toronto, Canada on Foursquare\n",
    "import requests as re\n",
    "import os\n",
    "\n",
    "# %env FOURSQUARE_API_KEY=fsq3y7QH0WSEhjn4m+9v+uHu8+3YgmQWnKmQ6Mcw60ZSdT0=\n",
    "%env FOURSQUARE_API_KEY=fsq3f2XsuYKnioaDoty53EOHDgCyE22ecgw6D/HW/02QWCs=\n",
    "apikey = os.environ.get('FOURSQUARE_API_KEY')\n",
    "print('api key: ',apikey)\n",
    "location='Toronto,Canada'\n",
    "\n",
    "# requesturl = f'https://api.foursquare.com/v3/places/search?query=\"Toronto\"'\n",
    "# response = re.get(requesturl,headers={'accept': 'application/JSON'})\n",
    "# response.json()\n"
   ]
  },
  {
   "cell_type": "code",
   "execution_count": 17,
   "metadata": {},
   "outputs": [
    {
     "data": {
      "text/plain": [
       "{'Accept': 'application/JSON',\n",
       " 'Authorization': 'fsq3f2XsuYKnioaDoty53EOHDgCyE22ecgw6D/HW/02QWCs='}"
      ]
     },
     "execution_count": 17,
     "metadata": {},
     "output_type": "execute_result"
    }
   ],
   "source": [
    "requesturl = \"https://api.foursquare.com/v3/places/search?near=\"+location\n",
    "headers = {\"Accept\": \"application/JSON\"}\n",
    "headers['Authorization'] = apikey\n",
    "headers"
   ]
  },
  {
   "cell_type": "code",
   "execution_count": 18,
   "metadata": {},
   "outputs": [],
   "source": [
    "response = re.get(requesturl, headers=headers) ## API request"
   ]
  },
  {
   "cell_type": "code",
   "execution_count": 19,
   "metadata": {},
   "outputs": [
    {
     "name": "stdout",
     "output_type": "stream",
     "text": [
      "{'results': [{'fsq_id': '4fdc0e98e4b05197cd14912b', 'categories': [{'id': 13003, 'name': 'Bar', 'icon': {'prefix': 'https://ss3.4sqi.net/img/categories_v2/nightlife/pub_', 'suffix': '.png'}}, {'id': 13051, 'name': 'Fish and Chips Shop', 'icon': {'prefix': 'https://ss3.4sqi.net/img/categories_v2/food/fishandchips_', 'suffix': '.png'}}, {'id': 13057, 'name': 'Gastropub', 'icon': {'prefix': 'https://ss3.4sqi.net/img/categories_v2/food/gastropub_', 'suffix': '.png'}}], 'chains': [], 'distance': 457, 'geocodes': {'main': {'latitude': 43.703719, 'longitude': -79.413372}, 'roof': {'latitude': 43.703719, 'longitude': -79.413372}}, 'link': '/v3/places/4fdc0e98e4b05197cd14912b', 'location': {'address': '508 Eglinton Ave W', 'country': 'CA', 'cross_street': 'Heddington Ave', 'formatted_address': '508 Eglinton Ave W (Heddington Ave), Toronto ON M5N 1A5', 'locality': 'Toronto', 'neighborhood': ['Allenby'], 'postcode': 'M5N 1A5', 'region': 'ON'}, 'name': 'The Abbot on Eglinton', 'related_places': {}, 'timezone': 'America/Toronto'}, {'fsq_id': '4b0afc19f964a520212b23e3', 'categories': [{'id': 16000, 'name': 'Landmarks and Outdoors', 'icon': {'prefix': 'https://ss3.4sqi.net/img/categories_v2/parks_outdoors/field_', 'suffix': '.png'}}, {'id': 16033, 'name': 'Dog Park', 'icon': {'prefix': 'https://ss3.4sqi.net/img/categories_v2/parks_outdoors/dogrun_', 'suffix': '.png'}}], 'chains': [], 'distance': 1304, 'geocodes': {'main': {'latitude': 43.678243, 'longitude': -79.375198}, 'roof': {'latitude': 43.678243, 'longitude': -79.375198}}, 'link': '/v3/places/4b0afc19f964a520212b23e3', 'location': {'address': '100 Glen Rd', 'country': 'CA', 'cross_street': 'Strathearn', 'formatted_address': '100 Glen Rd (Strathearn), Toronto ON M4W 2V7', 'locality': 'Toronto', 'postcode': 'M4W 2V7', 'region': 'ON'}, 'name': 'Cedarvale Park', 'related_places': {'children': [{'fsq_id': '61c4f0b4e565fe05c7572a44', 'name': 'Toboggan Hill'}, {'fsq_id': '5050f634e4b092c65b899303', 'name': 'Cedarvale Dog Park'}]}, 'timezone': 'America/Toronto'}, {'fsq_id': '502e3a9e90e75889381c35ef', 'categories': [{'id': 13097, 'name': 'Caribbean Restaurant', 'icon': {'prefix': 'https://ss3.4sqi.net/img/categories_v2/food/caribbean_', 'suffix': '.png'}}], 'chains': [], 'distance': 1437, 'geocodes': {'main': {'latitude': 43.709145, 'longitude': -79.403493}}, 'link': '/v3/places/502e3a9e90e75889381c35ef', 'location': {'address': '211 Yonge St', 'country': 'CA', 'cross_street': 'Shuter', 'formatted_address': '211 Yonge St (Shuter), Toronto ON', 'locality': 'Toronto', 'region': 'ON'}, 'name': 'Ritz Caribbean Foods', 'related_places': {}, 'timezone': 'America/Toronto'}, {'fsq_id': '52418b0b7e48222eea81d2d2', 'categories': [{'id': 13199, 'name': 'Indian Restaurant', 'icon': {'prefix': 'https://ss3.4sqi.net/img/categories_v2/food/indian_', 'suffix': '.png'}}], 'chains': [], 'distance': 2357, 'geocodes': {'main': {'latitude': 43.681157, 'longitude': -79.429366}, 'roof': {'latitude': 43.681157, 'longitude': -79.429366}}, 'link': '/v3/places/52418b0b7e48222eea81d2d2', 'location': {'address': '778 Saint Clair Ave W', 'country': 'CA', 'cross_street': 'St Clair West & Arlington Ave', 'formatted_address': '778 Saint Clair Ave W (St Clair West & Arlington Ave), Toronto ON M6C 1B6', 'locality': 'Toronto', 'neighborhood': ['York'], 'postcode': 'M6C 1B6', 'region': 'ON'}, 'name': 'Pukka', 'related_places': {}, 'timezone': 'America/Toronto'}, {'fsq_id': '4afdecd4f964a5201c2c22e3', 'categories': [{'id': 17101, 'name': 'Garden Center', 'icon': {'prefix': 'https://ss3.4sqi.net/img/categories_v2/parks_outdoors/gardencenter_', 'suffix': '.png'}}], 'chains': [], 'distance': 2453, 'geocodes': {'main': {'latitude': 43.719016, 'longitude': -79.400743}, 'roof': {'latitude': 43.719016, 'longitude': -79.400743}}, 'link': '/v3/places/4afdecd4f964a5201c2c22e3', 'location': {'address': '2827 Yonge St', 'country': 'CA', 'formatted_address': '2827 Yonge St, Toronto ON M4N 2J4', 'locality': 'Toronto', 'neighborhood': ['North Toronto'], 'postcode': 'M4N 2J4', 'region': 'ON'}, 'name': 'Sheridan Nurseries Ltd', 'related_places': {}, 'timezone': 'America/Toronto'}, {'fsq_id': '59f655cca87921744858ec5d', 'categories': [{'id': 10015, 'name': 'Escape Room', 'icon': {'prefix': 'https://ss3.4sqi.net/img/categories_v2/arts_entertainment/default_', 'suffix': '.png'}}], 'chains': [], 'distance': 2451, 'geocodes': {'main': {'latitude': 43.678569, 'longitude': -79.409729}}, 'link': '/v3/places/59f655cca87921744858ec5d', 'location': {'address': '1 Austin Terr', 'country': 'CA', 'cross_street': '', 'formatted_address': '1 Austin Terr, Toronto ON M5R 1X8', 'locality': 'Toronto', 'postcode': 'M5R 1X8', 'region': 'ON'}, 'name': 'Escape Casa Loma', 'related_places': {'parent': {'fsq_id': '4bef48fcc80dc9284ec827e3', 'name': 'Casa Loma'}}, 'timezone': 'America/Toronto'}, {'fsq_id': '4bef48fcc80dc9284ec827e3', 'categories': [{'id': 16007, 'name': 'Building / Structure', 'icon': {'prefix': 'https://ss3.4sqi.net/img/categories_v2/building/default_', 'suffix': '.png'}}], 'chains': [], 'distance': 2523, 'geocodes': {'main': {'latitude': 43.678111, 'longitude': -79.409512}, 'roof': {'latitude': 43.678111, 'longitude': -79.409512}}, 'link': '/v3/places/4bef48fcc80dc9284ec827e3', 'location': {'address': '1 Austin Terr', 'country': 'CA', 'cross_street': 'at Walmer Rd', 'formatted_address': '1 Austin Terr (at Walmer Rd), Toronto ON M5R 1X8', 'locality': 'Toronto', 'neighborhood': ['Rathnelly'], 'postcode': 'M5R 1X8', 'region': 'ON'}, 'name': 'Casa Loma', 'related_places': {'children': [{'fsq_id': '59f655cca87921744858ec5d', 'name': 'Escape Casa Loma'}, {'fsq_id': '4ca82201b0b8236a82dfb0e6', 'name': 'Casa Loma Stables'}, {'fsq_id': '612590f69adefa464710719c', 'name': 'Don Alfonso 1890'}, {'fsq_id': '5b9e9785894eac002c3cd302', 'name': 'Casa Loma Liberty Caffé'}, {'fsq_id': '59e6cdb1cf72a013dca8a7c8', 'name': 'BlueBlood Steakhouse'}]}, 'timezone': 'America/Toronto'}, {'fsq_id': '4aea405ef964a52082ba21e3', 'categories': [{'id': 17058, 'name': 'Beer Store', 'icon': {'prefix': 'https://ss3.4sqi.net/img/categories_v2/nightlife/beergarden_', 'suffix': '.png'}}, {'id': 17069, 'name': 'Grocery Store / Supermarket', 'icon': {'prefix': 'https://ss3.4sqi.net/img/categories_v2/shops/food_grocery_', 'suffix': '.png'}}, {'id': 17076, 'name': 'Liquor Store', 'icon': {'prefix': 'https://ss3.4sqi.net/img/categories_v2/shops/food_liquor_', 'suffix': '.png'}}], 'chains': [], 'distance': 2885, 'geocodes': {'main': {'latitude': 43.680952, 'longitude': -79.390505}, 'roof': {'latitude': 43.680952, 'longitude': -79.390505}}, 'link': '/v3/places/4aea405ef964a52082ba21e3', 'location': {'address': '10 Scrivener Sq', 'country': 'CA', 'cross_street': 'at Yonge St.', 'formatted_address': '10 Scrivener Sq (at Yonge St.), Toronto ON M4W 3Y9', 'locality': 'Toronto', 'neighborhood': ['Rathnelly'], 'postcode': 'M4W 3Y9', 'region': 'ON'}, 'name': 'Lcbo', 'related_places': {}, 'timezone': 'America/Toronto'}, {'fsq_id': '5282572111d2f33612220715', 'categories': [{'id': 13025, 'name': 'Wine Bar', 'icon': {'prefix': 'https://ss3.4sqi.net/img/categories_v2/food/winery_', 'suffix': '.png'}}, {'id': 13035, 'name': 'Coffee Shop', 'icon': {'prefix': 'https://ss3.4sqi.net/img/categories_v2/food/coffeeshop_', 'suffix': '.png'}}, {'id': 13065, 'name': 'Restaurant', 'icon': {'prefix': 'https://ss3.4sqi.net/img/categories_v2/food/default_', 'suffix': '.png'}}], 'chains': [], 'distance': 2854, 'geocodes': {'main': {'latitude': 43.681818, 'longitude': -79.391719}, 'roof': {'latitude': 43.681818, 'longitude': -79.391719}}, 'link': '/v3/places/5282572111d2f33612220715', 'location': {'address': '1208 Yonge St', 'country': 'CA', 'cross_street': 'Summerhill', 'formatted_address': '1208 Yonge St (Summerhill), Toronto ON M4T 1W1', 'locality': 'Toronto', 'neighborhood': ['Midtown Toronto'], 'postcode': 'M4T 1W1', 'region': 'ON'}, 'name': 'Boxcar Social', 'related_places': {}, 'timezone': 'America/Toronto'}, {'fsq_id': '52ced2c9498e67e1059cf3b2', 'categories': [{'id': 13059, 'name': 'Juice Bar', 'icon': {'prefix': 'https://ss3.4sqi.net/img/categories_v2/food/juicebar_', 'suffix': '.png'}}], 'chains': [], 'distance': 3112, 'geocodes': {'main': {'latitude': 43.67892, 'longitude': -79.390649}, 'roof': {'latitude': 43.67892, 'longitude': -79.390649}}, 'link': '/v3/places/52ced2c9498e67e1059cf3b2', 'location': {'address': '5 MacPherson Ave', 'country': 'CA', 'cross_street': 'Yonge St.', 'formatted_address': '5 MacPherson Ave (Yonge St.), Toronto ON M5R 1W7', 'locality': 'Toronto', 'neighborhood': ['Downtown Toronto'], 'postcode': 'M5R 1W7', 'region': 'ON'}, 'name': 'Greenhouse Juice Co', 'related_places': {}, 'timezone': 'America/Toronto'}], 'context': {'geo_bounds': {'circle': {'center': {'latitude': 43.70011, 'longitude': -79.4163}, 'radius': 16290}}}}\n"
     ]
    }
   ],
   "source": [
    "print(response.json())"
   ]
  },
  {
   "cell_type": "code",
   "execution_count": 21,
   "metadata": {},
   "outputs": [
    {
     "name": "stdout",
     "output_type": "stream",
     "text": [
      "Repository name: grequests\n",
      "Repository description: Requests + Gevent = <3\n"
     ]
    },
    {
     "data": {
      "text/plain": [
       "{'id': 4290214,\n",
       " 'node_id': 'MDEwOlJlcG9zaXRvcnk0MjkwMjE0',\n",
       " 'name': 'grequests',\n",
       " 'full_name': 'spyoungtech/grequests',\n",
       " 'private': False,\n",
       " 'owner': {'login': 'spyoungtech',\n",
       "  'id': 15212758,\n",
       "  'node_id': 'MDQ6VXNlcjE1MjEyNzU4',\n",
       "  'avatar_url': 'https://avatars.githubusercontent.com/u/15212758?v=4',\n",
       "  'gravatar_id': '',\n",
       "  'url': 'https://api.github.com/users/spyoungtech',\n",
       "  'html_url': 'https://github.com/spyoungtech',\n",
       "  'followers_url': 'https://api.github.com/users/spyoungtech/followers',\n",
       "  'following_url': 'https://api.github.com/users/spyoungtech/following{/other_user}',\n",
       "  'gists_url': 'https://api.github.com/users/spyoungtech/gists{/gist_id}',\n",
       "  'starred_url': 'https://api.github.com/users/spyoungtech/starred{/owner}{/repo}',\n",
       "  'subscriptions_url': 'https://api.github.com/users/spyoungtech/subscriptions',\n",
       "  'organizations_url': 'https://api.github.com/users/spyoungtech/orgs',\n",
       "  'repos_url': 'https://api.github.com/users/spyoungtech/repos',\n",
       "  'events_url': 'https://api.github.com/users/spyoungtech/events{/privacy}',\n",
       "  'received_events_url': 'https://api.github.com/users/spyoungtech/received_events',\n",
       "  'type': 'User',\n",
       "  'site_admin': False},\n",
       " 'html_url': 'https://github.com/spyoungtech/grequests',\n",
       " 'description': 'Requests + Gevent = <3',\n",
       " 'fork': False,\n",
       " 'url': 'https://api.github.com/repos/spyoungtech/grequests',\n",
       " 'forks_url': 'https://api.github.com/repos/spyoungtech/grequests/forks',\n",
       " 'keys_url': 'https://api.github.com/repos/spyoungtech/grequests/keys{/key_id}',\n",
       " 'collaborators_url': 'https://api.github.com/repos/spyoungtech/grequests/collaborators{/collaborator}',\n",
       " 'teams_url': 'https://api.github.com/repos/spyoungtech/grequests/teams',\n",
       " 'hooks_url': 'https://api.github.com/repos/spyoungtech/grequests/hooks',\n",
       " 'issue_events_url': 'https://api.github.com/repos/spyoungtech/grequests/issues/events{/number}',\n",
       " 'events_url': 'https://api.github.com/repos/spyoungtech/grequests/events',\n",
       " 'assignees_url': 'https://api.github.com/repos/spyoungtech/grequests/assignees{/user}',\n",
       " 'branches_url': 'https://api.github.com/repos/spyoungtech/grequests/branches{/branch}',\n",
       " 'tags_url': 'https://api.github.com/repos/spyoungtech/grequests/tags',\n",
       " 'blobs_url': 'https://api.github.com/repos/spyoungtech/grequests/git/blobs{/sha}',\n",
       " 'git_tags_url': 'https://api.github.com/repos/spyoungtech/grequests/git/tags{/sha}',\n",
       " 'git_refs_url': 'https://api.github.com/repos/spyoungtech/grequests/git/refs{/sha}',\n",
       " 'trees_url': 'https://api.github.com/repos/spyoungtech/grequests/git/trees{/sha}',\n",
       " 'statuses_url': 'https://api.github.com/repos/spyoungtech/grequests/statuses/{sha}',\n",
       " 'languages_url': 'https://api.github.com/repos/spyoungtech/grequests/languages',\n",
       " 'stargazers_url': 'https://api.github.com/repos/spyoungtech/grequests/stargazers',\n",
       " 'contributors_url': 'https://api.github.com/repos/spyoungtech/grequests/contributors',\n",
       " 'subscribers_url': 'https://api.github.com/repos/spyoungtech/grequests/subscribers',\n",
       " 'subscription_url': 'https://api.github.com/repos/spyoungtech/grequests/subscription',\n",
       " 'commits_url': 'https://api.github.com/repos/spyoungtech/grequests/commits{/sha}',\n",
       " 'git_commits_url': 'https://api.github.com/repos/spyoungtech/grequests/git/commits{/sha}',\n",
       " 'comments_url': 'https://api.github.com/repos/spyoungtech/grequests/comments{/number}',\n",
       " 'issue_comment_url': 'https://api.github.com/repos/spyoungtech/grequests/issues/comments{/number}',\n",
       " 'contents_url': 'https://api.github.com/repos/spyoungtech/grequests/contents/{+path}',\n",
       " 'compare_url': 'https://api.github.com/repos/spyoungtech/grequests/compare/{base}...{head}',\n",
       " 'merges_url': 'https://api.github.com/repos/spyoungtech/grequests/merges',\n",
       " 'archive_url': 'https://api.github.com/repos/spyoungtech/grequests/{archive_format}{/ref}',\n",
       " 'downloads_url': 'https://api.github.com/repos/spyoungtech/grequests/downloads',\n",
       " 'issues_url': 'https://api.github.com/repos/spyoungtech/grequests/issues{/number}',\n",
       " 'pulls_url': 'https://api.github.com/repos/spyoungtech/grequests/pulls{/number}',\n",
       " 'milestones_url': 'https://api.github.com/repos/spyoungtech/grequests/milestones{/number}',\n",
       " 'notifications_url': 'https://api.github.com/repos/spyoungtech/grequests/notifications{?since,all,participating}',\n",
       " 'labels_url': 'https://api.github.com/repos/spyoungtech/grequests/labels{/name}',\n",
       " 'releases_url': 'https://api.github.com/repos/spyoungtech/grequests/releases{/id}',\n",
       " 'deployments_url': 'https://api.github.com/repos/spyoungtech/grequests/deployments',\n",
       " 'created_at': '2012-05-10T21:50:15Z',\n",
       " 'updated_at': '2022-09-21T17:28:07Z',\n",
       " 'pushed_at': '2022-07-16T05:48:37Z',\n",
       " 'git_url': 'git://github.com/spyoungtech/grequests.git',\n",
       " 'ssh_url': 'git@github.com:spyoungtech/grequests.git',\n",
       " 'clone_url': 'https://github.com/spyoungtech/grequests.git',\n",
       " 'svn_url': 'https://github.com/spyoungtech/grequests',\n",
       " 'homepage': 'https://pypi.python.org/pypi/grequests',\n",
       " 'size': 53,\n",
       " 'stargazers_count': 4109,\n",
       " 'watchers_count': 4109,\n",
       " 'language': 'Python',\n",
       " 'has_issues': True,\n",
       " 'has_projects': True,\n",
       " 'has_downloads': True,\n",
       " 'has_wiki': True,\n",
       " 'has_pages': False,\n",
       " 'forks_count': 334,\n",
       " 'mirror_url': None,\n",
       " 'archived': False,\n",
       " 'disabled': False,\n",
       " 'open_issues_count': 8,\n",
       " 'license': {'key': 'bsd-2-clause',\n",
       "  'name': 'BSD 2-Clause \"Simplified\" License',\n",
       "  'spdx_id': 'BSD-2-Clause',\n",
       "  'url': 'https://api.github.com/licenses/bsd-2-clause',\n",
       "  'node_id': 'MDc6TGljZW5zZTQ='},\n",
       " 'allow_forking': True,\n",
       " 'is_template': False,\n",
       " 'web_commit_signoff_required': False,\n",
       " 'topics': [],\n",
       " 'visibility': 'public',\n",
       " 'forks': 334,\n",
       " 'open_issues': 8,\n",
       " 'watchers': 4109,\n",
       " 'default_branch': 'master',\n",
       " 'score': 1.0}"
      ]
     },
     "execution_count": 21,
     "metadata": {},
     "output_type": "execute_result"
    }
   ],
   "source": [
    "import requests\n",
    "response = requests.get(\n",
    "    'https://api.github.com/search/repositories',\n",
    "    params={'q': 'requests+language:python'},\n",
    ")\n",
    "json_response = response.json()\n",
    "repository = json_response['items'][0]\n",
    "print(f'Repository name: {repository[\"name\"]}')  # Python 3.6+\n",
    "print(f'Repository description: {repository[\"description\"]}')  # Python 3.6+\n",
    "repository"
   ]
  },
  {
   "cell_type": "code",
   "execution_count": 23,
   "metadata": {},
   "outputs": [
    {
     "name": "stdout",
     "output_type": "stream",
     "text": [
      "Text matches: [{'object_url': 'https://api.github.com/repositories/4290214', 'object_type': 'Repository', 'property': 'description', 'fragment': 'Requests + Gevent = <3', 'matches': [{'text': 'Requests', 'indices': [0, 8]}]}]\n"
     ]
    },
    {
     "data": {
      "text/plain": [
       "{'id': 4290214,\n",
       " 'node_id': 'MDEwOlJlcG9zaXRvcnk0MjkwMjE0',\n",
       " 'name': 'grequests',\n",
       " 'full_name': 'spyoungtech/grequests',\n",
       " 'private': False,\n",
       " 'owner': {'login': 'spyoungtech',\n",
       "  'id': 15212758,\n",
       "  'node_id': 'MDQ6VXNlcjE1MjEyNzU4',\n",
       "  'avatar_url': 'https://avatars.githubusercontent.com/u/15212758?v=4',\n",
       "  'gravatar_id': '',\n",
       "  'url': 'https://api.github.com/users/spyoungtech',\n",
       "  'html_url': 'https://github.com/spyoungtech',\n",
       "  'followers_url': 'https://api.github.com/users/spyoungtech/followers',\n",
       "  'following_url': 'https://api.github.com/users/spyoungtech/following{/other_user}',\n",
       "  'gists_url': 'https://api.github.com/users/spyoungtech/gists{/gist_id}',\n",
       "  'starred_url': 'https://api.github.com/users/spyoungtech/starred{/owner}{/repo}',\n",
       "  'subscriptions_url': 'https://api.github.com/users/spyoungtech/subscriptions',\n",
       "  'organizations_url': 'https://api.github.com/users/spyoungtech/orgs',\n",
       "  'repos_url': 'https://api.github.com/users/spyoungtech/repos',\n",
       "  'events_url': 'https://api.github.com/users/spyoungtech/events{/privacy}',\n",
       "  'received_events_url': 'https://api.github.com/users/spyoungtech/received_events',\n",
       "  'type': 'User',\n",
       "  'site_admin': False},\n",
       " 'html_url': 'https://github.com/spyoungtech/grequests',\n",
       " 'description': 'Requests + Gevent = <3',\n",
       " 'fork': False,\n",
       " 'url': 'https://api.github.com/repos/spyoungtech/grequests',\n",
       " 'forks_url': 'https://api.github.com/repos/spyoungtech/grequests/forks',\n",
       " 'keys_url': 'https://api.github.com/repos/spyoungtech/grequests/keys{/key_id}',\n",
       " 'collaborators_url': 'https://api.github.com/repos/spyoungtech/grequests/collaborators{/collaborator}',\n",
       " 'teams_url': 'https://api.github.com/repos/spyoungtech/grequests/teams',\n",
       " 'hooks_url': 'https://api.github.com/repos/spyoungtech/grequests/hooks',\n",
       " 'issue_events_url': 'https://api.github.com/repos/spyoungtech/grequests/issues/events{/number}',\n",
       " 'events_url': 'https://api.github.com/repos/spyoungtech/grequests/events',\n",
       " 'assignees_url': 'https://api.github.com/repos/spyoungtech/grequests/assignees{/user}',\n",
       " 'branches_url': 'https://api.github.com/repos/spyoungtech/grequests/branches{/branch}',\n",
       " 'tags_url': 'https://api.github.com/repos/spyoungtech/grequests/tags',\n",
       " 'blobs_url': 'https://api.github.com/repos/spyoungtech/grequests/git/blobs{/sha}',\n",
       " 'git_tags_url': 'https://api.github.com/repos/spyoungtech/grequests/git/tags{/sha}',\n",
       " 'git_refs_url': 'https://api.github.com/repos/spyoungtech/grequests/git/refs{/sha}',\n",
       " 'trees_url': 'https://api.github.com/repos/spyoungtech/grequests/git/trees{/sha}',\n",
       " 'statuses_url': 'https://api.github.com/repos/spyoungtech/grequests/statuses/{sha}',\n",
       " 'languages_url': 'https://api.github.com/repos/spyoungtech/grequests/languages',\n",
       " 'stargazers_url': 'https://api.github.com/repos/spyoungtech/grequests/stargazers',\n",
       " 'contributors_url': 'https://api.github.com/repos/spyoungtech/grequests/contributors',\n",
       " 'subscribers_url': 'https://api.github.com/repos/spyoungtech/grequests/subscribers',\n",
       " 'subscription_url': 'https://api.github.com/repos/spyoungtech/grequests/subscription',\n",
       " 'commits_url': 'https://api.github.com/repos/spyoungtech/grequests/commits{/sha}',\n",
       " 'git_commits_url': 'https://api.github.com/repos/spyoungtech/grequests/git/commits{/sha}',\n",
       " 'comments_url': 'https://api.github.com/repos/spyoungtech/grequests/comments{/number}',\n",
       " 'issue_comment_url': 'https://api.github.com/repos/spyoungtech/grequests/issues/comments{/number}',\n",
       " 'contents_url': 'https://api.github.com/repos/spyoungtech/grequests/contents/{+path}',\n",
       " 'compare_url': 'https://api.github.com/repos/spyoungtech/grequests/compare/{base}...{head}',\n",
       " 'merges_url': 'https://api.github.com/repos/spyoungtech/grequests/merges',\n",
       " 'archive_url': 'https://api.github.com/repos/spyoungtech/grequests/{archive_format}{/ref}',\n",
       " 'downloads_url': 'https://api.github.com/repos/spyoungtech/grequests/downloads',\n",
       " 'issues_url': 'https://api.github.com/repos/spyoungtech/grequests/issues{/number}',\n",
       " 'pulls_url': 'https://api.github.com/repos/spyoungtech/grequests/pulls{/number}',\n",
       " 'milestones_url': 'https://api.github.com/repos/spyoungtech/grequests/milestones{/number}',\n",
       " 'notifications_url': 'https://api.github.com/repos/spyoungtech/grequests/notifications{?since,all,participating}',\n",
       " 'labels_url': 'https://api.github.com/repos/spyoungtech/grequests/labels{/name}',\n",
       " 'releases_url': 'https://api.github.com/repos/spyoungtech/grequests/releases{/id}',\n",
       " 'deployments_url': 'https://api.github.com/repos/spyoungtech/grequests/deployments',\n",
       " 'created_at': '2012-05-10T21:50:15Z',\n",
       " 'updated_at': '2022-09-21T17:28:07Z',\n",
       " 'pushed_at': '2022-07-16T05:48:37Z',\n",
       " 'git_url': 'git://github.com/spyoungtech/grequests.git',\n",
       " 'ssh_url': 'git@github.com:spyoungtech/grequests.git',\n",
       " 'clone_url': 'https://github.com/spyoungtech/grequests.git',\n",
       " 'svn_url': 'https://github.com/spyoungtech/grequests',\n",
       " 'homepage': 'https://pypi.python.org/pypi/grequests',\n",
       " 'size': 53,\n",
       " 'stargazers_count': 4109,\n",
       " 'watchers_count': 4109,\n",
       " 'language': 'Python',\n",
       " 'has_issues': True,\n",
       " 'has_projects': True,\n",
       " 'has_downloads': True,\n",
       " 'has_wiki': True,\n",
       " 'has_pages': False,\n",
       " 'forks_count': 334,\n",
       " 'mirror_url': None,\n",
       " 'archived': False,\n",
       " 'disabled': False,\n",
       " 'open_issues_count': 8,\n",
       " 'license': {'key': 'bsd-2-clause',\n",
       "  'name': 'BSD 2-Clause \"Simplified\" License',\n",
       "  'spdx_id': 'BSD-2-Clause',\n",
       "  'url': 'https://api.github.com/licenses/bsd-2-clause',\n",
       "  'node_id': 'MDc6TGljZW5zZTQ='},\n",
       " 'allow_forking': True,\n",
       " 'is_template': False,\n",
       " 'web_commit_signoff_required': False,\n",
       " 'topics': [],\n",
       " 'visibility': 'public',\n",
       " 'forks': 334,\n",
       " 'open_issues': 8,\n",
       " 'watchers': 4109,\n",
       " 'default_branch': 'master',\n",
       " 'score': 1.0,\n",
       " 'text_matches': [{'object_url': 'https://api.github.com/repositories/4290214',\n",
       "   'object_type': 'Repository',\n",
       "   'property': 'description',\n",
       "   'fragment': 'Requests + Gevent = <3',\n",
       "   'matches': [{'text': 'Requests', 'indices': [0, 8]}]}]}"
      ]
     },
     "execution_count": 23,
     "metadata": {},
     "output_type": "execute_result"
    }
   ],
   "source": [
    "response = requests.get(\n",
    "    'https://api.github.com/search/repositories',\n",
    "    params={'q': 'requests+language:python'},\n",
    "    headers={'Accept': 'application/vnd.github.v3.text-match+json'},\n",
    ")\n",
    "\n",
    "# View the new `text-matches` array which provides information\n",
    "# about your search term within the results\n",
    "json_response = response.json()\n",
    "repository = json_response['items'][0]\n",
    "print(f'Text matches: {repository[\"text_matches\"]}')\n",
    "repository"
   ]
  },
  {
   "cell_type": "code",
   "execution_count": 34,
   "metadata": {},
   "outputs": [
    {
     "data": {
      "text/plain": [
       "'{\"key\": \"value\"}'"
      ]
     },
     "execution_count": 34,
     "metadata": {},
     "output_type": "execute_result"
    }
   ],
   "source": [
    "response = requests.post('https://httpbin.org/post', json={'key':'value'})\n",
    "json_response = response.json()\n",
    "json_response['data']\n",
    "# json_response['headers']\n",
    "# json_response"
   ]
  },
  {
   "cell_type": "code",
   "execution_count": 35,
   "metadata": {},
   "outputs": [
    {
     "data": {
      "text/plain": [
       "{'User-Agent': 'python-requests/2.27.1', 'Accept-Encoding': 'gzip, deflate, br', 'Accept': '*/*', 'Connection': 'keep-alive', 'Content-Length': '16', 'Content-Type': 'application/json'}"
      ]
     },
     "execution_count": 35,
     "metadata": {},
     "output_type": "execute_result"
    }
   ],
   "source": [
    "response = requests.post('https://httpbin.org/post', json={'key':'value'})\n",
    "response.request.headers"
   ]
  },
  {
   "cell_type": "code",
   "execution_count": 39,
   "metadata": {},
   "outputs": [
    {
     "data": {
      "text/plain": [
       "b'{\"key\": \"value\"}'"
      ]
     },
     "execution_count": 39,
     "metadata": {},
     "output_type": "execute_result"
    }
   ],
   "source": [
    "response.request.body"
   ]
  },
  {
   "cell_type": "code",
   "execution_count": null,
   "metadata": {},
   "outputs": [],
   "source": []
  },
  {
   "cell_type": "code",
   "execution_count": null,
   "metadata": {},
   "outputs": [],
   "source": []
  }
 ],
 "metadata": {
  "kernelspec": {
   "display_name": "Python 3.9.12 ('base')",
   "language": "python",
   "name": "python3"
  },
  "language_info": {
   "codemirror_mode": {
    "name": "ipython",
    "version": 3
   },
   "file_extension": ".py",
   "mimetype": "text/x-python",
   "name": "python",
   "nbconvert_exporter": "python",
   "pygments_lexer": "ipython3",
   "version": "3.9.12"
  },
  "orig_nbformat": 4,
  "vscode": {
   "interpreter": {
    "hash": "2e2acc2011b4da91d464b6001f77a86da83e60b7e151f5c0261d45e8c88d5eb5"
   }
  }
 },
 "nbformat": 4,
 "nbformat_minor": 2
}
