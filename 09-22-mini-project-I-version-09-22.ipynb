{
 "cells": [
  {
   "cell_type": "markdown",
   "metadata": {},
   "source": [
    "# Mini-Project I\n",
    "During this project, we will practice handling of complex lists and dictionaries in Python. Plus, we will learn how to work with API documentation. Don't be afraid to search for the information in the [**documentation**](https://api.tfl.gov.uk/swagger/ui/index.html?url=/swagger/docs/v1#!/AccidentStats/AccidentStats_Get).\n",
    "\n",
    "Let's go to the tasks, we have some parsing to do :)!!"
   ]
  },
  {
   "cell_type": "markdown",
   "metadata": {},
   "source": [
    "## Demo"
   ]
  },
  {
   "cell_type": "code",
   "execution_count": 3,
   "metadata": {},
   "outputs": [],
   "source": [
    "# import packages we need (remember what packages we used yesterday during the API session)\n",
    "# IMPORT HERE\n",
    "import os\n",
    "import requests"
   ]
  },
  {
   "cell_type": "code",
   "execution_count": 4,
   "metadata": {},
   "outputs": [],
   "source": [
    "# don't forget package os\n",
    "# app_id = os.environ[\"<your app id name>\"]\n",
    "# app_key = os.environ[\"10078ea0e30641daa07fab1cbd8485fe\"]\n",
    "app_key = \"10078ea0e30641daa07fab1cbd8485fe\"\n",
    "url_append = f'?app_key={app_key}' "
   ]
  },
  {
   "cell_type": "code",
   "execution_count": 3,
   "metadata": {},
   "outputs": [
    {
     "name": "stdout",
     "output_type": "stream",
     "text": [
      "?app_key=10078ea0e30641daa07fab1cbd8485fe\n"
     ]
    }
   ],
   "source": [
    "print(url_append)"
   ]
  },
  {
   "cell_type": "code",
   "execution_count": 5,
   "metadata": {},
   "outputs": [],
   "source": [
    "# URL\n",
    "url = \"https://api.tfl.gov.uk/AirQuality\""
   ]
  },
  {
   "cell_type": "code",
   "execution_count": 7,
   "metadata": {},
   "outputs": [],
   "source": [
    "# We send the request to the API\n",
    "# NOTE: if you don't have your APP_KEY, run this without the url_append\n",
    "res = requests.get(url+url_append)"
   ]
  },
  {
   "cell_type": "code",
   "execution_count": 8,
   "metadata": {},
   "outputs": [
    {
     "data": {
      "text/plain": [
       "200"
      ]
     },
     "execution_count": 8,
     "metadata": {},
     "output_type": "execute_result"
    }
   ],
   "source": [
    "# We can check if the request was successful\n",
    "res.status_code"
   ]
  },
  {
   "cell_type": "code",
   "execution_count": 1,
   "metadata": {},
   "outputs": [],
   "source": [
    "# We can export the information that was returned using method .json()\n",
    "# res.json()"
   ]
  },
  {
   "cell_type": "code",
   "execution_count": 44,
   "metadata": {},
   "outputs": [
    {
     "data": {
      "text/plain": [
       "dict_keys(['$id', '$type', 'forecastType', 'forecastID', 'forecastBand', 'forecastSummary', 'nO2Band', 'o3Band', 'pM10Band', 'pM25Band', 'sO2Band', 'forecastText'])"
      ]
     },
     "execution_count": 44,
     "metadata": {},
     "output_type": "execute_result"
    }
   ],
   "source": [
    "# Experimenting with pulling data\n",
    "# res.json()['currentForecast'][0]['forecastType']\n",
    "res.json()['currentForecast'][0]['$id']\n",
    "# res.json()['currentForecast'][0].\n"
   ]
  },
  {
   "cell_type": "markdown",
   "metadata": {},
   "source": [
    "## Task\n",
    "Parse the dictionary and print the AirQuality predictions for tomorrow"
   ]
  },
  {
   "cell_type": "code",
   "execution_count": 49,
   "metadata": {},
   "outputs": [
    {
     "name": "stdout",
     "output_type": "stream",
     "text": [
      "$id :  3\n",
      "$type :  Tfl.Api.Presentation.Entities.CurrentForecast, Tfl.Api.Presentation.Entities\n",
      "forecastType :  Future\n",
      "forecastID :  38008\n",
      "forecastBand :  Low\n",
      "forecastSummary :  Low air pollution forecast valid from Friday 23 September to end of Saturday 24 September GMT\n",
      "nO2Band :  Low\n",
      "o3Band :  Low\n",
      "pM10Band :  Low\n",
      "pM25Band :  Low\n",
      "sO2Band :  Low\n",
      "forecastText :  Friday will see rain for most of the day, heavy at times. Cloudy with a chance of heavy rain again on Saturday. &lt;br/&gt;&lt;br/&gt;A northerly relatively &#39;clean&#39; airflow is also expected. &lt;br/&gt;&lt;br/&gt;Air pollution is expected to remain &#39;Low&#39; for the following pollutants throughout the forecast period:&lt;br/&gt;&lt;br/&gt;Nitrogen Dioxide&lt;br/&gt;Ozone&lt;br/&gt;PM10 Particulate&lt;br/&gt;PM2.5 Particulate&lt;br/&gt;Sulphur Dioxide&lt;br/&gt;\n"
     ]
    }
   ],
   "source": [
    "for key,value in res.json()['currentForecast'][1].items():\n",
    "    # print(day['forecastType'])\n",
    "    print(key,\": \", value)"
   ]
  },
  {
   "cell_type": "markdown",
   "metadata": {},
   "source": [
    "## Task\n",
    "What are the different modes of transport which are operated by Transfer for London? How many of modes do they have?\n",
    "\n",
    "Print the list with different modes of transport, plus their count. Example output:\n",
    "```\n",
    "[bus, cable-car,.....]\n",
    "Number of different modes of transport is: xyz\n",
    "```\n",
    "\n",
    "We need to search the documentation for correct request."
   ]
  },
  {
   "cell_type": "code",
   "execution_count": 79,
   "metadata": {},
   "outputs": [
    {
     "data": {
      "text/plain": [
       "200"
      ]
     },
     "execution_count": 79,
     "metadata": {},
     "output_type": "execute_result"
    }
   ],
   "source": [
    "# URL\n",
    "url1a = \"https://api.tfl.gov.uk/Journey/Meta/Modes\"\n",
    "\n",
    "# We send the request to the API\n",
    "# NOTE: if you don't have your APP_KEY, run this without the url_append\n",
    "res1a = requests.get(url1a+url_append)\n",
    "# We can check if the request was successful\n",
    "res1a.status_code"
   ]
  },
  {
   "cell_type": "markdown",
   "metadata": {},
   "source": [
    "## Task\n",
    "How many BikePoints in London are operated by Transfor for London? How many docks are in **all** BikePoints? There is the information for empty and full docks for each BikePoint."
   ]
  },
  {
   "cell_type": "code",
   "execution_count": 6,
   "metadata": {},
   "outputs": [
    {
     "data": {
      "text/plain": [
       "200"
      ]
     },
     "execution_count": 6,
     "metadata": {},
     "output_type": "execute_result"
    }
   ],
   "source": [
    "# URL\n",
    "url1 = \"https://api.tfl.gov.uk/BikePoint\"\n",
    "\n",
    "# We send the request to the API\n",
    "# NOTE: if you don't have your APP_KEY, run this without the url_append\n",
    "res1 = requests.get(url1+url_append)\n",
    "# We can check if the request was successful\n",
    "res1.status_code"
   ]
  },
  {
   "cell_type": "code",
   "execution_count": 7,
   "metadata": {},
   "outputs": [],
   "source": [
    "# We can export the information that was returned using method .json()\n",
    "data1 = res1.json()"
   ]
  },
  {
   "cell_type": "code",
   "execution_count": 10,
   "metadata": {},
   "outputs": [
    {
     "name": "stdout",
     "output_type": "stream",
     "text": [
      "The number of BikePoints:  780\n"
     ]
    }
   ],
   "source": [
    "# data1 is a list of dictionaries!\n",
    "countbikepoints = 0\n",
    "for line in data1:\n",
    "    countbikepoints +=1\n",
    "    # print(line['additionalProperties'])\n",
    "    # print('\\n')\n",
    "    # print(line.values())\n",
    "print('The number of BikePoints: ',countbikepoints)\n"
   ]
  },
  {
   "cell_type": "code",
   "execution_count": 11,
   "metadata": {},
   "outputs": [
    {
     "name": "stdout",
     "output_type": "stream",
     "text": [
      "The number of docks:  20635\n"
     ]
    }
   ],
   "source": [
    "# number of docks\n",
    "sumNbDocks = 0\n",
    "for line in data1:\n",
    "    # countbikepoints +=1\n",
    "    # print(line['additionalProperties'][8]['key']) # Confirm index for item within additionalProperties with NbDocks\n",
    "    sumNbDocks += int(line['additionalProperties'][8]['value'])\n",
    "    # print('\\n')\n",
    "    # print(line.values())\n",
    "print('The number of docks: ',sumNbDocks)\n"
   ]
  },
  {
   "cell_type": "markdown",
   "metadata": {},
   "source": [
    "## Task\n",
    "How many tube and bus lines are in London? Print names of all tube lines."
   ]
  },
  {
   "cell_type": "code",
   "execution_count": null,
   "metadata": {},
   "outputs": [],
   "source": [
    "# Get Get all valid routes for all lines, including the name and id of the originating and terminating stops for each route. \n",
    "# https://api.digital.tfl.gov.uk/Line/Route?serviceTypes=Regular"
   ]
  },
  {
   "cell_type": "code",
   "execution_count": 12,
   "metadata": {},
   "outputs": [],
   "source": [
    "# URL\n",
    "url2 = \"https://api.tfl.gov.uk/Line/Mode/tube%2C%20bus\""
   ]
  },
  {
   "cell_type": "code",
   "execution_count": 13,
   "metadata": {},
   "outputs": [
    {
     "data": {
      "text/plain": [
       "200"
      ]
     },
     "execution_count": 13,
     "metadata": {},
     "output_type": "execute_result"
    }
   ],
   "source": [
    "# We send the request to the API\n",
    "# NOTE: if you don't have your APP_KEY, run this without the url_append\n",
    "res2 = requests.get(url2+url_append)\n",
    "# We can check if the request was successful\n",
    "res2.status_code"
   ]
  },
  {
   "cell_type": "code",
   "execution_count": 16,
   "metadata": {},
   "outputs": [],
   "source": [
    "# We can export the information that was returned using method .json()\n",
    "data = res2.json()"
   ]
  },
  {
   "cell_type": "code",
   "execution_count": 99,
   "metadata": {},
   "outputs": [
    {
     "name": "stdout",
     "output_type": "stream",
     "text": [
      "101 bus\n"
     ]
    }
   ],
   "source": [
    "print(data[2]['name'],data[0]['modeName'])"
   ]
  },
  {
   "cell_type": "code",
   "execution_count": 18,
   "metadata": {},
   "outputs": [
    {
     "name": "stdout",
     "output_type": "stream",
     "text": [
      "Number of bus lines:  678\n",
      "Number of tube lines:  11\n",
      "Tube line names:  ['Bakerloo', 'Central', 'Circle', 'District', 'Hammersmith & City', 'Jubilee', 'Metropolitan', 'Northern', 'Piccadilly', 'Victoria', 'Waterloo & City']\n",
      "Unclassified lines (verification):  0\n"
     ]
    }
   ],
   "source": [
    "# Determine number of bus lines and number of tube lines\n",
    "countbus = 0\n",
    "counttube = 0\n",
    "countother = 0\n",
    "tubenames = []\n",
    "for line in data:\n",
    "    if line['modeName'] == \"bus\":\n",
    "        countbus +=1\n",
    "    elif line['modeName'] == \"tube\":\n",
    "        counttube += 1\n",
    "        tubenames.append(line['name'])\n",
    "    else:\n",
    "        countother += 1\n",
    "        print(line['modeName'])\n",
    "    # print(line['modeName'])\n",
    "    # print('--')\n",
    "print('Number of bus lines: ',countbus)\n",
    "print('Number of tube lines: ',counttube)\n",
    "print('Tube line names: ',tubenames)\n",
    "print('Unclassified lines (verification): ',countother)"
   ]
  },
  {
   "cell_type": "markdown",
   "metadata": {},
   "source": [
    "## Task\n",
    "How many station has `victoria` line?"
   ]
  },
  {
   "cell_type": "code",
   "execution_count": 19,
   "metadata": {},
   "outputs": [
    {
     "data": {
      "text/plain": [
       "200"
      ]
     },
     "execution_count": 19,
     "metadata": {},
     "output_type": "execute_result"
    }
   ],
   "source": [
    "\n",
    "urlvic = \"https://api.tfl.gov.uk/Line/victoria/StopPoints\" # Gets a list of the stations that serve the given line id\n",
    "res3 = requests.get(urlvic+url_append)\n",
    "res3.status_code"
   ]
  },
  {
   "cell_type": "code",
   "execution_count": 36,
   "metadata": {},
   "outputs": [
    {
     "data": {
      "text/html": [
       "<div>\n",
       "<style scoped>\n",
       "    .dataframe tbody tr th:only-of-type {\n",
       "        vertical-align: middle;\n",
       "    }\n",
       "\n",
       "    .dataframe tbody tr th {\n",
       "        vertical-align: top;\n",
       "    }\n",
       "\n",
       "    .dataframe thead th {\n",
       "        text-align: right;\n",
       "    }\n",
       "</style>\n",
       "<table border=\"1\" class=\"dataframe\">\n",
       "  <thead>\n",
       "    <tr style=\"text-align: right;\">\n",
       "      <th></th>\n",
       "      <th>$type</th>\n",
       "      <th>naptanId</th>\n",
       "      <th>modes</th>\n",
       "      <th>icsCode</th>\n",
       "      <th>stopType</th>\n",
       "      <th>stationNaptan</th>\n",
       "      <th>hubNaptanCode</th>\n",
       "      <th>lines</th>\n",
       "      <th>lineGroup</th>\n",
       "      <th>lineModeGroups</th>\n",
       "      <th>status</th>\n",
       "      <th>id</th>\n",
       "      <th>commonName</th>\n",
       "      <th>placeType</th>\n",
       "      <th>additionalProperties</th>\n",
       "      <th>children</th>\n",
       "      <th>lat</th>\n",
       "      <th>lon</th>\n",
       "    </tr>\n",
       "  </thead>\n",
       "  <tbody>\n",
       "    <tr>\n",
       "      <th>0</th>\n",
       "      <td>Tfl.Api.Presentation.Entities.StopPoint, Tfl.A...</td>\n",
       "      <td>940GZZLUBLR</td>\n",
       "      <td>[tube]</td>\n",
       "      <td>1000024</td>\n",
       "      <td>NaptanMetroStation</td>\n",
       "      <td>940GZZLUBLR</td>\n",
       "      <td>HUBBHO</td>\n",
       "      <td>[{'$type': 'Tfl.Api.Presentation.Entities.Iden...</td>\n",
       "      <td>[{'$type': 'Tfl.Api.Presentation.Entities.Line...</td>\n",
       "      <td>[{'$type': 'Tfl.Api.Presentation.Entities.Line...</td>\n",
       "      <td>True</td>\n",
       "      <td>940GZZLUBLR</td>\n",
       "      <td>Blackhorse Road Underground Station</td>\n",
       "      <td>StopPoint</td>\n",
       "      <td>[{'$type': 'Tfl.Api.Presentation.Entities.Addi...</td>\n",
       "      <td>[{'$type': 'Tfl.Api.Presentation.Entities.Stop...</td>\n",
       "      <td>51.586919</td>\n",
       "      <td>-0.041150</td>\n",
       "    </tr>\n",
       "    <tr>\n",
       "      <th>1</th>\n",
       "      <td>Tfl.Api.Presentation.Entities.StopPoint, Tfl.A...</td>\n",
       "      <td>940GZZLUBXN</td>\n",
       "      <td>[tube]</td>\n",
       "      <td>1000031</td>\n",
       "      <td>NaptanMetroStation</td>\n",
       "      <td>940GZZLUBXN</td>\n",
       "      <td>HUBBRX</td>\n",
       "      <td>[{'$type': 'Tfl.Api.Presentation.Entities.Iden...</td>\n",
       "      <td>[{'$type': 'Tfl.Api.Presentation.Entities.Line...</td>\n",
       "      <td>[{'$type': 'Tfl.Api.Presentation.Entities.Line...</td>\n",
       "      <td>True</td>\n",
       "      <td>940GZZLUBXN</td>\n",
       "      <td>Brixton Underground Station</td>\n",
       "      <td>StopPoint</td>\n",
       "      <td>[{'$type': 'Tfl.Api.Presentation.Entities.Addi...</td>\n",
       "      <td>[{'$type': 'Tfl.Api.Presentation.Entities.Stop...</td>\n",
       "      <td>51.462618</td>\n",
       "      <td>-0.114888</td>\n",
       "    </tr>\n",
       "    <tr>\n",
       "      <th>2</th>\n",
       "      <td>Tfl.Api.Presentation.Entities.StopPoint, Tfl.A...</td>\n",
       "      <td>940GZZLUEUS</td>\n",
       "      <td>[tube]</td>\n",
       "      <td>1000077</td>\n",
       "      <td>NaptanMetroStation</td>\n",
       "      <td>940GZZLUEUS</td>\n",
       "      <td>HUBEUS</td>\n",
       "      <td>[{'$type': 'Tfl.Api.Presentation.Entities.Iden...</td>\n",
       "      <td>[{'$type': 'Tfl.Api.Presentation.Entities.Line...</td>\n",
       "      <td>[{'$type': 'Tfl.Api.Presentation.Entities.Line...</td>\n",
       "      <td>True</td>\n",
       "      <td>940GZZLUEUS</td>\n",
       "      <td>Euston Underground Station</td>\n",
       "      <td>StopPoint</td>\n",
       "      <td>[{'$type': 'Tfl.Api.Presentation.Entities.Addi...</td>\n",
       "      <td>[{'$type': 'Tfl.Api.Presentation.Entities.Stop...</td>\n",
       "      <td>51.528089</td>\n",
       "      <td>-0.132066</td>\n",
       "    </tr>\n",
       "    <tr>\n",
       "      <th>3</th>\n",
       "      <td>Tfl.Api.Presentation.Entities.StopPoint, Tfl.A...</td>\n",
       "      <td>940GZZLUFPK</td>\n",
       "      <td>[tube]</td>\n",
       "      <td>1000083</td>\n",
       "      <td>NaptanMetroStation</td>\n",
       "      <td>940GZZLUFPK</td>\n",
       "      <td>HUBFPK</td>\n",
       "      <td>[{'$type': 'Tfl.Api.Presentation.Entities.Iden...</td>\n",
       "      <td>[{'$type': 'Tfl.Api.Presentation.Entities.Line...</td>\n",
       "      <td>[{'$type': 'Tfl.Api.Presentation.Entities.Line...</td>\n",
       "      <td>True</td>\n",
       "      <td>940GZZLUFPK</td>\n",
       "      <td>Finsbury Park Underground Station</td>\n",
       "      <td>StopPoint</td>\n",
       "      <td>[{'$type': 'Tfl.Api.Presentation.Entities.Addi...</td>\n",
       "      <td>[{'$type': 'Tfl.Api.Presentation.Entities.Stop...</td>\n",
       "      <td>51.564158</td>\n",
       "      <td>-0.106825</td>\n",
       "    </tr>\n",
       "    <tr>\n",
       "      <th>4</th>\n",
       "      <td>Tfl.Api.Presentation.Entities.StopPoint, Tfl.A...</td>\n",
       "      <td>940GZZLUGPK</td>\n",
       "      <td>[bus, tube]</td>\n",
       "      <td>1000093</td>\n",
       "      <td>NaptanMetroStation</td>\n",
       "      <td>940GZZLUGPK</td>\n",
       "      <td>NaN</td>\n",
       "      <td>[{'$type': 'Tfl.Api.Presentation.Entities.Iden...</td>\n",
       "      <td>[{'$type': 'Tfl.Api.Presentation.Entities.Line...</td>\n",
       "      <td>[{'$type': 'Tfl.Api.Presentation.Entities.Line...</td>\n",
       "      <td>True</td>\n",
       "      <td>940GZZLUGPK</td>\n",
       "      <td>Green Park Underground Station</td>\n",
       "      <td>StopPoint</td>\n",
       "      <td>[{'$type': 'Tfl.Api.Presentation.Entities.Addi...</td>\n",
       "      <td>[{'$type': 'Tfl.Api.Presentation.Entities.Stop...</td>\n",
       "      <td>51.506947</td>\n",
       "      <td>-0.142787</td>\n",
       "    </tr>\n",
       "  </tbody>\n",
       "</table>\n",
       "</div>"
      ],
      "text/plain": [
       "                                               $type     naptanId  \\\n",
       "0  Tfl.Api.Presentation.Entities.StopPoint, Tfl.A...  940GZZLUBLR   \n",
       "1  Tfl.Api.Presentation.Entities.StopPoint, Tfl.A...  940GZZLUBXN   \n",
       "2  Tfl.Api.Presentation.Entities.StopPoint, Tfl.A...  940GZZLUEUS   \n",
       "3  Tfl.Api.Presentation.Entities.StopPoint, Tfl.A...  940GZZLUFPK   \n",
       "4  Tfl.Api.Presentation.Entities.StopPoint, Tfl.A...  940GZZLUGPK   \n",
       "\n",
       "         modes  icsCode            stopType stationNaptan hubNaptanCode  \\\n",
       "0       [tube]  1000024  NaptanMetroStation   940GZZLUBLR        HUBBHO   \n",
       "1       [tube]  1000031  NaptanMetroStation   940GZZLUBXN        HUBBRX   \n",
       "2       [tube]  1000077  NaptanMetroStation   940GZZLUEUS        HUBEUS   \n",
       "3       [tube]  1000083  NaptanMetroStation   940GZZLUFPK        HUBFPK   \n",
       "4  [bus, tube]  1000093  NaptanMetroStation   940GZZLUGPK           NaN   \n",
       "\n",
       "                                               lines  \\\n",
       "0  [{'$type': 'Tfl.Api.Presentation.Entities.Iden...   \n",
       "1  [{'$type': 'Tfl.Api.Presentation.Entities.Iden...   \n",
       "2  [{'$type': 'Tfl.Api.Presentation.Entities.Iden...   \n",
       "3  [{'$type': 'Tfl.Api.Presentation.Entities.Iden...   \n",
       "4  [{'$type': 'Tfl.Api.Presentation.Entities.Iden...   \n",
       "\n",
       "                                           lineGroup  \\\n",
       "0  [{'$type': 'Tfl.Api.Presentation.Entities.Line...   \n",
       "1  [{'$type': 'Tfl.Api.Presentation.Entities.Line...   \n",
       "2  [{'$type': 'Tfl.Api.Presentation.Entities.Line...   \n",
       "3  [{'$type': 'Tfl.Api.Presentation.Entities.Line...   \n",
       "4  [{'$type': 'Tfl.Api.Presentation.Entities.Line...   \n",
       "\n",
       "                                      lineModeGroups  status           id  \\\n",
       "0  [{'$type': 'Tfl.Api.Presentation.Entities.Line...    True  940GZZLUBLR   \n",
       "1  [{'$type': 'Tfl.Api.Presentation.Entities.Line...    True  940GZZLUBXN   \n",
       "2  [{'$type': 'Tfl.Api.Presentation.Entities.Line...    True  940GZZLUEUS   \n",
       "3  [{'$type': 'Tfl.Api.Presentation.Entities.Line...    True  940GZZLUFPK   \n",
       "4  [{'$type': 'Tfl.Api.Presentation.Entities.Line...    True  940GZZLUGPK   \n",
       "\n",
       "                            commonName  placeType  \\\n",
       "0  Blackhorse Road Underground Station  StopPoint   \n",
       "1          Brixton Underground Station  StopPoint   \n",
       "2           Euston Underground Station  StopPoint   \n",
       "3    Finsbury Park Underground Station  StopPoint   \n",
       "4       Green Park Underground Station  StopPoint   \n",
       "\n",
       "                                additionalProperties  \\\n",
       "0  [{'$type': 'Tfl.Api.Presentation.Entities.Addi...   \n",
       "1  [{'$type': 'Tfl.Api.Presentation.Entities.Addi...   \n",
       "2  [{'$type': 'Tfl.Api.Presentation.Entities.Addi...   \n",
       "3  [{'$type': 'Tfl.Api.Presentation.Entities.Addi...   \n",
       "4  [{'$type': 'Tfl.Api.Presentation.Entities.Addi...   \n",
       "\n",
       "                                            children        lat       lon  \n",
       "0  [{'$type': 'Tfl.Api.Presentation.Entities.Stop...  51.586919 -0.041150  \n",
       "1  [{'$type': 'Tfl.Api.Presentation.Entities.Stop...  51.462618 -0.114888  \n",
       "2  [{'$type': 'Tfl.Api.Presentation.Entities.Stop...  51.528089 -0.132066  \n",
       "3  [{'$type': 'Tfl.Api.Presentation.Entities.Stop...  51.564158 -0.106825  \n",
       "4  [{'$type': 'Tfl.Api.Presentation.Entities.Stop...  51.506947 -0.142787  "
      ]
     },
     "execution_count": 36,
     "metadata": {},
     "output_type": "execute_result"
    }
   ],
   "source": [
    "df = pd.DataFrame(data3)\n",
    "# df[df['stopType'] = \"NaptanMetroStation\"]\n",
    "df.head()"
   ]
  },
  {
   "cell_type": "code",
   "execution_count": 21,
   "metadata": {},
   "outputs": [
    {
     "name": "stdout",
     "output_type": "stream",
     "text": [
      "The number of stations that serve victoria line:  16\n"
     ]
    }
   ],
   "source": [
    "data3 = res3.json()\n",
    "print('The number of stations that serve victoria line: ',len(data3))"
   ]
  },
  {
   "cell_type": "markdown",
   "metadata": {},
   "source": [
    "## Task\n",
    "Plan the journey from Heathrow Airport to Tower Bridge using Bus and Tube? Which way is faster? Example output:\n",
    "```\n",
    "Planned duration:\n",
    "Bus: x minutes\n",
    "Tube: y minutes\n",
    "```\n",
    "\n",
    "We need to search the documentation for correct requests and parameters we need."
   ]
  },
  {
   "cell_type": "code",
   "execution_count": 22,
   "metadata": {},
   "outputs": [
    {
     "name": "stdout",
     "output_type": "stream",
     "text": [
      "https://api.tfl.gov.uk/Journey/JourneyResults/51.470333239822246,-0.454564838354071/to/51.50438128763061,-0.0762106453390755?app_key=10078ea0e30641daa07fab1cbd8485fe&mode=bus\n"
     ]
    }
   ],
   "source": [
    "# Create URLs for API requests\n",
    "urlroot = \"https://api.tfl.gov.uk/Journey/JourneyResults\"\n",
    "start = '51.470333239822246,-0.454564838354071' #Heathrow airport\n",
    "end = '51.50438128763061,-0.0762106453390755' #Lat/Long for closest end of bridge \n",
    "\n",
    "## Bus trips\n",
    "urlbus = f'{urlroot}/{start}/to/{end}{url_append}&mode=bus'\n",
    "print(urlbus)"
   ]
  },
  {
   "cell_type": "code",
   "execution_count": 28,
   "metadata": {},
   "outputs": [
    {
     "data": {
      "text/plain": [
       "200"
      ]
     },
     "execution_count": 28,
     "metadata": {},
     "output_type": "execute_result"
    }
   ],
   "source": [
    "# GET request for bus trips\n",
    "resbus = requests.get(urlbus)\n",
    "resbus.status_code"
   ]
  },
  {
   "cell_type": "code",
   "execution_count": 29,
   "metadata": {},
   "outputs": [
    {
     "name": "stdout",
     "output_type": "stream",
     "text": [
      "https://api.tfl.gov.uk/Journey/JourneyResults/51.470333239822246,-0.454564838354071/to/51.50438128763061,-0.0762106453390755?app_key=10078ea0e30641daa07fab1cbd8485fe&mode=tube\n"
     ]
    },
    {
     "data": {
      "text/plain": [
       "200"
      ]
     },
     "execution_count": 29,
     "metadata": {},
     "output_type": "execute_result"
    }
   ],
   "source": [
    "# URL and GET request for tube trips\n",
    "urltube = f'{urlroot}/{start}/to/{end}{url_append}&mode=tube'\n",
    "print(urltube)\n",
    "restube = requests.get(urltube)\n",
    "restube.status_code"
   ]
  },
  {
   "cell_type": "code",
   "execution_count": 24,
   "metadata": {},
   "outputs": [],
   "source": [
    "from statistics import mean"
   ]
  },
  {
   "cell_type": "code",
   "execution_count": 38,
   "metadata": {},
   "outputs": [
    {
     "name": "stdout",
     "output_type": "stream",
     "text": [
      "85\n",
      "87\n",
      "83\n",
      "average trip via tube:  85  minutes\n"
     ]
    }
   ],
   "source": [
    "datatube = restube.json()\n",
    "# create list with duration of each tube trip\n",
    "durationtube =[]\n",
    "for journey in datatube['journeys']:\n",
    "    durationtube.append(journey['duration'])\n",
    "    print(journey['duration'])\n",
    "print('average trip via tube: ',mean(durationtube),' minutes')"
   ]
  },
  {
   "cell_type": "code",
   "execution_count": 39,
   "metadata": {},
   "outputs": [
    {
     "name": "stdout",
     "output_type": "stream",
     "text": [
      "128\n",
      "136\n",
      "153\n",
      "average trip via bus:  139  minutes\n"
     ]
    }
   ],
   "source": [
    "databus = resbus.json()\n",
    "# create list with duration of each bus trip\n",
    "durationbus =[]\n",
    "for journey in databus['journeys']:\n",
    "    durationbus.append(journey['duration'])\n",
    "    print(journey['duration'])\n",
    "print('average trip via bus: ',mean(durationbus),' minutes')"
   ]
  },
  {
   "cell_type": "code",
   "execution_count": 41,
   "metadata": {},
   "outputs": [
    {
     "name": "stdout",
     "output_type": "stream",
     "text": [
      "The fastest trip is by tube\n"
     ]
    }
   ],
   "source": [
    "if mean(durationtube) < mean(durationbus):\n",
    "    print('The fastest trip is by tube')\n",
    "else:\n",
    "    print('The fastest trip is by bus')\n"
   ]
  },
  {
   "cell_type": "code",
   "execution_count": 1,
   "metadata": {},
   "outputs": [],
   "source": [
    "#test VS code git push"
   ]
  }
 ],
 "metadata": {
  "kernelspec": {
   "display_name": "Python 3.9.12 ('base')",
   "language": "python",
   "name": "python3"
  },
  "language_info": {
   "codemirror_mode": {
    "name": "ipython",
    "version": 3
   },
   "file_extension": ".py",
   "mimetype": "text/x-python",
   "name": "python",
   "nbconvert_exporter": "python",
   "pygments_lexer": "ipython3",
   "version": "3.9.12"
  },
  "vscode": {
   "interpreter": {
    "hash": "2e2acc2011b4da91d464b6001f77a86da83e60b7e151f5c0261d45e8c88d5eb5"
   }
  }
 },
 "nbformat": 4,
 "nbformat_minor": 4
}
